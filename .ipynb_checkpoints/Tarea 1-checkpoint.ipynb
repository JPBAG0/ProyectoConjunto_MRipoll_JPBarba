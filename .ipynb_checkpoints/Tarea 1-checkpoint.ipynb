{
 "cells": [
  {
   "cell_type": "markdown",
   "metadata": {},
   "source": [
    "<img style=\"float: left; margin: 30px 15px 15px 15px;\" src=\"https://encrypted-tbn0.gstatic.com/images?q=tbn:ANd9GcTFzQj91sOlkeDFkg5HDbjtR4QJYmLXkfMNig&usqp=CAU\" width=\"400\" height=\"500\" /> \n",
    "    \n",
    "    \n",
    "### <font color='navy'> Simulación matemática. \n",
    "\n",
    "**Nombres:** Mariana Ripoll y Juan Pablo Barba\n",
    "\n",
    "**Fecha:** 27 de agosto del 2023.\n",
    "\n",
    "**Expediente** : MR 747684 Y JP 747297.\n",
    "    \n",
    "**Profesor:** Oscar David Jaramillo Zuluaga.\n",
    "    \n",
    "**Link Github**: https://github.com/marianaripoll/ProyectoConjunto_MRipoll_JPBarba.git\n",
    "\n",
    "# Tarea 1: Clase 2 "
   ]
  },
  {
   "cell_type": "markdown",
   "metadata": {},
   "source": [
    "## Expectativas de la clase\n",
    "> La materia de simulación matemática adquiere un valor excepcional para los financiero debido a su aplicación directa en el análisis y modelización de instrumentos financieros, así como en la evaluación de riesgos y la toma de decisiones en los complejos escenarios de los mercados financieros"
   ]
  },
  {
   "cell_type": "markdown",
   "metadata": {},
   "source": [
    "### Ejercicio 1: (enunciado) Transcribirlo"
   ]
  },
  {
   "cell_type": "markdown",
   "metadata": {},
   "source": [
    "<table>\n",
    "    <thead>\n",
    "        <tr>\n",
    "            <th><h3>$$i$$</h3></th>\n",
    "            <th><h3>$$x$$</h3></th>\n",
    "            <th><h3>$$f(x)$$</h3></th>\n",
    "        </tr>\n",
    "    </thead>\n",
    "    <tbody>\n",
    "        <tr>\n",
    "            <td align=\"center\">0</td>\n",
    "            <td align=\"center\">-1</td>\n",
    "            <td align=\"center\">0.3678</td>\n",
    "        </tr>\n",
    "        <tr>\n",
    "            <td align=\"center\"style=\"color:red\">1</td>\n",
    "            <td align=\"center\"style=\"color:red\">-0.5</td>\n",
    "            <td align=\"center\"style=\"color:red\">0.7788</td>\n",
    "        </tr>\n",
    "            <tr>\n",
    "            <td align=\"center\" style=\"color:blue\">2</td>\n",
    "            <td align=\"center\" style=\"color:blue\">0</td>\n",
    "            <td align=\"center\" style=\"color:blue\">1</td>\n",
    "        </tr>\n",
    "            <tr>\n",
    "            <td align=\"center\" style=\"color:red\">3</td>\n",
    "            <td align=\"center\" style=\"color:red\">0.5</td>\n",
    "            <td align=\"center\" style=\"color:red\">0.7788</td>\n",
    "        </tr>\n",
    "            <tr>\n",
    "            <td align=\"center\">4</td>\n",
    "            <td align=\"center\">1</td>\n",
    "            <td align=\"center\">0.3678</td>\n",
    "        </tr>\n",
    "    </tbody>\n",
    "</table>\n",
    "\n",
    "<center><t>Cuadro 1.Tabla de valores $f(x)$</t></center>"
   ]
  },
  {
   "cell_type": "markdown",
   "metadata": {},
   "source": [
    "$$\n",
    "\\begin{align}\n",
    "    \\int_{-1}^{1}e^{-x^{2}} dx &\\approx \\frac{0,5}{3} [f(-1)+f(1)+4({\\color{Red}{ f(-0,5)+f(0,5)}})+2\\color{Blue}{ f(0)}]\\\\\n",
    "    &\\approx \\frac{0,5}{3}[0,3678+0,3678+4({\\color{Red}{ 0,7788+0,7788}})+2\\cdot{\\color{Blue} 1}]\\approx 1,4943 \n",
    "\\end{align}\n",
    "$$"
   ]
  },
  {
   "cell_type": "markdown",
   "metadata": {},
   "source": [
    "A modo de verificación, se calculará por software, el valor del área para $n = 100$, un valor mucho más elevado al que se utilizó anteriormente. Si lo calculado previamente es correcto, se esperaría que sea próximo al valor presentado a continuación para ser una buena aproximación"
   ]
  },
  {
   "cell_type": "markdown",
   "metadata": {},
   "source": [
    "$$\n",
    "    \\int_{-1}^{1}e^{-x^{2}} dx \\approx  1,4936\\\\\n",
    "$$"
   ]
  },
  {
   "cell_type": "markdown",
   "metadata": {},
   "source": [
    "Figura 1. Figura que debe transcribir en markdown el 'ESTUDIANTE 1'"
   ]
  },
  {
   "cell_type": "markdown",
   "metadata": {},
   "source": [
    "|    i  |  1  |  2  | 3   | 4   | 5 | 6 | 7  |\n",
    "|:-----:|:---:|:---:|-----|-----|---|---|----|\n",
    "| Ei(V) |  12 |  10 | 24  | 12  | - | - | -  |\n",
    "|  ri() | 0.1 | 0.5 | 0.2 | 0.5 | - | - | -  |\n",
    "|  Ri() |  25 |  40 | 16  | 20  | 9 | 4 | 20 |"
   ]
  },
  {
   "cell_type": "markdown",
   "metadata": {},
   "source": [
    "Código de solución estudiante 2"
   ]
  },
  {
   "cell_type": "markdown",
   "metadata": {},
   "source": [
    "<p><span style=\"color: blue;\">Kemma y Vorst (1990)</span> muestran que las opciones asiáticas con media geométrica continua se pueden valuar con el mismo enfoque de las opciones <span>plain vanilla; </span>solo se deben cambiar los parámetros de volatilidad a por aa, y el costo de acarreo b por bA.</p>\n",
    "<p>De acuerdo con Kemma y Vorst, las fórmulas para valuar una opción de compra y una opción de venta son:</p>"
   ]
  },
  {
   "cell_type": "markdown",
   "metadata": {},
   "source": [
    "$\n",
    "\\begin{align}\n",
    "    &c \\approx S_{t}e^{(b_{A}-r)(T-t)}\\Phi (d_{1})-Ke^{-r(T-t)}\\Phi (d_{2}),\\\\\n",
    "    &p \\approx Ke^{-r(T-t)}\\Phi (-d_{2})-S_{t}e^{(b_{A}-r)(T-t)}\\Phi (-d_{1}).\\\\\n",
    "\\end{align}\n",
    "$\n",
    "<p>con d1 y d2 dados por:</p>"
   ]
  },
  {
   "cell_type": "markdown",
   "metadata": {},
   "source": [
    ">\n",
    "$\n",
    "\\begin{align}\n",
    "    &d_{1} = \\frac{ln(S_{t}/K)+(b_{A}+1/2\\sigma_{a}^{2})(T-t)}{\\sigma \\sqrt{T-t}},\\\\\n",
    "    &d_{2} = d1 - \\sigma_{a}\\sqrt{T-t}.\\\\\n",
    "\\end{align}\n",
    "$\n",
    "​\n"
   ]
  },
  {
   "cell_type": "markdown",
   "metadata": {},
   "source": [
    "La función $\\Phi(d)$ es la función de distribución acumulada de $E\\sim N(0,1)$. La volatilidad ajustada es igual a:"
   ]
  },
  {
   "cell_type": "markdown",
   "metadata": {},
   "source": [
    "$\n",
    "\\sigma_{a} = \\frac{\\sigma}{\\sqrt{3}},\n",
    "$"
   ]
  },
  {
   "cell_type": "markdown",
   "metadata": {},
   "source": [
    "mientras que el costo de acarreo ajustado es:"
   ]
  },
  {
   "cell_type": "markdown",
   "metadata": {},
   "source": [
    "$\n",
    "    b_{A} = \\frac{1}{2}(v-\\frac{\\sigma^{2}}{6})\\\\\n",
    "$\n",
    "Figura 1. que debe transcribir en markdown el 'ESTUDIANTE 2'"
   ]
  },
  {
   "cell_type": "code",
   "execution_count": null,
   "metadata": {},
   "outputs": [],
   "source": []
  }
 ],
 "metadata": {
  "kernelspec": {
   "display_name": "Python 3 (ipykernel)",
   "language": "python",
   "name": "python3"
  },
  "language_info": {
   "codemirror_mode": {
    "name": "ipython",
    "version": 3
   },
   "file_extension": ".py",
   "mimetype": "text/x-python",
   "name": "python",
   "nbconvert_exporter": "python",
   "pygments_lexer": "ipython3",
   "version": "3.11.4"
  }
 },
 "nbformat": 4,
 "nbformat_minor": 2
}
